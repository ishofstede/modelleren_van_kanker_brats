{
 "cells": [
  {
   "cell_type": "markdown",
   "metadata": {},
   "source": [
    "# Plan Van Aanpak \n",
    "## Semantic Segmentation van BraTS brainscan dataset"
   ]
  },
  {
   "cell_type": "markdown",
   "metadata": {},
   "source": [
    "##  1. Introductie \n",
    "\n",
    "In dit project wordt semantic segmentation uitgevoerd op 3D MRI-scan data van hersenen. De invoer van data zal voortkomen uit de BraTS dataset en de output zal zijn een visualisation zijn die aantoont waar de tumor zich bevind in het hersenvolume. Hiervoor gebruiken we de BraTS dataset.\n",
    "\n",
    "De BraTS dataset is afkomstig van kaggle en bevat multimodale scans die beschikbaar zijn als NIfTI-bestanden (.nii.gz) en bevatten de volgende volumes: a) native T1, b) post-contrast T1-gewogen beelden (T1Gd), c) T2-gewogen beelden (T2) en d) T2 Fluid Attenuated Inversion Recovery (T2-FLAIR) beelden. Deze scans zijn verkregen met verschillende klinische protocollen en diverse scanners van meerdere (n=19) instellingen, die als gegevensbijdragers worden genoemd.\n",
    "\n",
    "Alle beelddatasets zijn handmatig geannoteerd door één tot vier beoordelaars, volgens hetzelfde annotatieprotocol. De annotaties zijn goedgekeurd door ervaren neuro-radiologen. De annotaties omvatten de GD-versterkte tumor (ET — label 4), het peritumorale oedeem (ED — label 2) en de necrotische en niet-versterkte tumorkern (NCR/NET — label 1), zoals beschreven in zowel het BraTS 2012-2013 TMI-paper als in het nieuwste BraTS-samenvattende paper. De verstrekte gegevens worden gedistribueerd na hun voorverwerking, d.w.z. co-registratie naar hetzelfde anatomische sjabloon, interpolatie naar dezelfde resolutie (1 mm³) en het verwijderen van de schedel."
   ]
  },
  {
   "cell_type": "markdown",
   "metadata": {},
   "source": [
    "## 2. Materialen en methoden\n",
    "\n",
    "### 2.1 Data-analyse\n",
    "- **Naamwijziging van bestand 'Segmented file 355':** Het bestand wordt hernoemd om consistentie binnen de dataset te waarborgen.\n",
    "- **Installatie van software:** NiBabel wordt geïnstalleerd voor het verwerken van `.nii`-bestanden.\n",
    "- **Normalisatie:** De volumetrische gegevens worden geschaald met behulp van MinMaxScaler om consistentie in grijswaarden te garanderen.\n",
    "- **Regioselectie:** Grote lege regio’s in de beelden worden verwijderd om regio’s van interesse (128x128x128 voxels) te isoleren.\n",
    "- **Opslag:** De geselecteerde regio’s van interesse worden opgeslagen als `.npy`-bestanden voor verdere verwerking.\n",
    "\n",
    "### 2.2 Ontwikkeling van een custom generator\n",
    "- **Beperkingen van bestaande tools:** De standaard Keras Image Data Generator is niet compatibel met `.npy`-bestanden.\n",
    "- **Implementatie:** Een aangepaste generator wordt ontwikkeld om `.npy`-bestanden efficiënt te laden en geschikt te maken voor modeltraining.\n",
    "\n",
    "### 2.3 Modelontwikkeling\n",
    "- **Modelselectie:** Een 3D U-net model wordt ontwikkeld of de 3D Segmentation Models Library wordt ingezet, afhankelijk van de vereisten en de complexiteit van de dataset.\n",
    "- **Validatie:** Het model wordt geëvalueerd op een testdataset om de segmentatienauwkeurigheid te controleren.\n",
    "\n",
    "### 2.4 Training en voorspelling\n",
    "- **Batchtraining:** De aangepaste generator wordt gebruikt om data in batches te trainen.\n",
    "- **Voorspelling:** Het model wordt toegepast op nieuwe datasets om voorspellingen te genereren.\n",
    "- **Visualisatie:** De voorspelde segmentaties worden gevisualiseerd om de prestaties van het model te evalueren."
   ]
  },
  {
   "cell_type": "markdown",
   "metadata": {},
   "source": [
    "## 3. Resultaten en evaluatie\n",
    "\n",
    "- **Uitkomstmetingen:** De resultaten van het model worden geëvalueerd op basis van nauwkeurigheid, specificiteit, en sensitiviteit.\n",
    "- **Vergelijking:** De prestaties van het model worden vergeleken met benchmarks uit de literatuur.\n",
    "- **Rapportage:** Alle bevindingen worden vastgelegd in in een ipython notebook met figuren en een duidelijke interpretatie van de resultaten."
   ]
  },
  {
   "cell_type": "markdown",
   "metadata": {},
   "source": [
    "## 4. Planning\n",
    "\n",
    "- **Week 1:** Data-analyse en preprocessing, ontwikkeling custom generator.\n",
    "- **Week 2:** Modelontwikkeling en initialisatie.\n",
    "- **Week 3:** Training en evaluatie van het model, Rapportage de resultaten."
   ]
  },
  {
   "cell_type": "markdown",
   "metadata": {},
   "source": [
    "### References\n",
    "\n",
    "https://www.youtube.com/playlist?list=PLZsOBAyNTZwYgF8O1bTdV-lBdN55wLHDr\n",
    "\n",
    "https://www.kaggle.com/datasets/awsaf49/brats20-dataset-training-validation\n",
    "\n",
    "[1] B. H. Menze, A. Jakab, S. Bauer, J. Kalpathy-Cramer, K. Farahani, J. Kirby, et al. \"The Multimodal Brain Tumor Image Segmentation Benchmark (BRATS)\", IEEE Transactions on Medical Imaging 34(10), 1993-2024 (2015) DOI: 10.1109/TMI.2014.2377694\n",
    "\n",
    "[2] S. Bakas, H. Akbari, A. Sotiras, M. Bilello, M. Rozycki, J.S. Kirby, et al., \"Advancing The Cancer Genome Atlas glioma MRI collections with expert segmentation labels and radiomic features\", Nature Scientific Data, 4:170117 (2017) DOI: 10.1038/sdata.2017.117\n",
    "\n",
    "[3] S. Bakas, M. Reyes, A. Jakab, S. Bauer, M. Rempfler, A. Crimi, et al., \"Identifying the Best Machine Learning Algorithms for Brain Tumor Segmentation, Progression Assessment, and Overall Survival Prediction in the BRATS Challenge\", arXiv preprint arXiv:1811.02629 (2018)"
   ]
  }
 ],
 "metadata": {
  "language_info": {
   "name": "python"
  }
 },
 "nbformat": 4,
 "nbformat_minor": 2
}
