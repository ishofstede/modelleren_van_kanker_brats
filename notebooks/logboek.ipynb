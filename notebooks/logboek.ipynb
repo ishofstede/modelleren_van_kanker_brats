{
 "cells": [
  {
   "cell_type": "markdown",
   "metadata": {},
   "source": [
    "Tried to modify code into pytorch, but due to the duration of the project I switched back to Tensorflow. "
   ]
  },
  {
   "cell_type": "markdown",
   "metadata": {},
   "source": [
    "important! It looks like the load_model() function calls the legacy function without the compile argument. And compile is true by default. \n",
    "\n",
    ".../keras/src/saving/saving_api.py\n",
    "\n",
    "    if str(filepath).endswith((\".h5\", \".hdf5\")):\n",
    "        return legacy_h5_format.load_model_from_hdf5(filepath, custom_objects=None, compile=compile)\n",
    "    "
   ]
  },
  {
   "cell_type": "markdown",
   "metadata": {},
   "source": [
    "C:\\Users\\isabe\\anaconda3\\envs\\modelleren_van_kanker\\Lib\\site-packages\\keras\n",
    "\n"
   ]
  },
  {
   "cell_type": "markdown",
   "metadata": {},
   "source": []
  }
 ],
 "metadata": {
  "language_info": {
   "name": "python"
  }
 },
 "nbformat": 4,
 "nbformat_minor": 2
}
