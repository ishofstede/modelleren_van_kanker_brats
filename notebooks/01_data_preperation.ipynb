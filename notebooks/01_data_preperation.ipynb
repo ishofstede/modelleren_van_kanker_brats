{
 "cells": [
  {
   "cell_type": "markdown",
   "metadata": {},
   "source": [
    "# 1. data preperation"
   ]
  },
  {
   "cell_type": "markdown",
   "metadata": {},
   "source": [
    "### Imports"
   ]
  },
  {
   "cell_type": "code",
   "execution_count": 6,
   "metadata": {},
   "outputs": [],
   "source": [
    "import sys\n",
    "import glob\n",
    "sys.path.append('../src')\n",
    "\n",
    "# Import the functions from the src directory.\n",
    "from data_processing import process_and_save_images\n",
    "#from data_splitter import split_data"
   ]
  },
  {
   "cell_type": "markdown",
   "metadata": {},
   "source": [
    "### Processing and saving the training data"
   ]
  },
  {
   "cell_type": "code",
   "execution_count": 7,
   "metadata": {},
   "outputs": [],
   "source": [
    "# Define file paths and output directory\n",
    "t2_list = sorted(glob.glob('..data/BraTS2020_TrainingData/MICCAI_BraTS2020_TrainingData/*/*t2.nii'))\n",
    "t1ce_list = sorted(glob.glob('..data/BraTS2020_TrainingData/MICCAI_BraTS2020_TrainingData/*/*t1ce.nii'))\n",
    "flair_list = sorted(glob.glob('..data/BraTS2020_TrainingData/MICCAI_BraTS2020_TrainingData/*/*flair.nii'))\n",
    "mask_list = sorted(glob.glob('..data/BraTS2020_TrainingData/MICCAI_BraTS2020_TrainingData/*/*seg.nii'))\n",
    "\n",
    "save_path = '..data/BraTS2020_TrainingData/processed_training_data/'\n",
    "\n",
    "# Process and save all images\n",
    "process_and_save_images(flair_list, mask_list, save_path)"
   ]
  },
  {
   "cell_type": "markdown",
   "metadata": {},
   "source": [
    "### Split the data (optional)"
   ]
  },
  {
   "cell_type": "markdown",
   "metadata": {},
   "source": [
    "We can choose to split the data into training and validation, however its already been done for us, so that data will be used instead."
   ]
  },
  {
   "cell_type": "code",
   "execution_count": 8,
   "metadata": {},
   "outputs": [],
   "source": [
    "# Split the data into training and validation (optional, as there is a validation folder)\n",
    "# input_folder = '..data/BraTS2020_TrainingData/input_data_3channels/'\n",
    "# output_folder = '..data/BraTS2020_TrainingData/input_data_128/'\n",
    "# split_data(input_folder, output_folder)"
   ]
  },
  {
   "cell_type": "markdown",
   "metadata": {},
   "source": [
    "### Processing and saving the validation data"
   ]
  },
  {
   "cell_type": "code",
   "execution_count": 10,
   "metadata": {},
   "outputs": [
    {
     "name": "stdout",
     "output_type": "stream",
     "text": [
      "Processing image and mask 1/125\n"
     ]
    },
    {
     "ename": "IndexError",
     "evalue": "list index out of range",
     "output_type": "error",
     "traceback": [
      "\u001b[1;31m---------------------------------------------------------------------------\u001b[0m",
      "\u001b[1;31mIndexError\u001b[0m                                Traceback (most recent call last)",
      "Cell \u001b[1;32mIn[10], line 9\u001b[0m\n\u001b[0;32m      6\u001b[0m save_path_val \u001b[38;5;241m=\u001b[39m \u001b[38;5;124m'\u001b[39m\u001b[38;5;124m..data/BraTS2020_TrainingData/processed_validation_data/\u001b[39m\u001b[38;5;124m'\u001b[39m\n\u001b[0;32m      8\u001b[0m \u001b[38;5;66;03m# Process and save all images\u001b[39;00m\n\u001b[1;32m----> 9\u001b[0m \u001b[43mprocess_and_save_images\u001b[49m\u001b[43m(\u001b[49m\u001b[43mflair_list_val\u001b[49m\u001b[43m,\u001b[49m\u001b[43m \u001b[49m\u001b[43mmask_list_val\u001b[49m\u001b[43m,\u001b[49m\u001b[43m \u001b[49m\u001b[43msave_path_val\u001b[49m\u001b[43m)\u001b[49m\n",
      "File \u001b[1;32mc:\\Users\\isabe\\Documents\\Hanze\\jaar_3_new\\kw2\\modelleren_van_kanker_brats\\notebooks\\../src\\data_processing.py:60\u001b[0m, in \u001b[0;36mprocess_and_save_images\u001b[1;34m(image_paths, mask_paths, save_path, crop_size, offsets)\u001b[0m\n\u001b[0;32m     58\u001b[0m \u001b[38;5;66;03m# Load and normalize images\u001b[39;00m\n\u001b[0;32m     59\u001b[0m t2_image \u001b[38;5;241m=\u001b[39m load_and_normalize_image(image_paths[img_idx])\n\u001b[1;32m---> 60\u001b[0m t1ce_image \u001b[38;5;241m=\u001b[39m load_and_normalize_image(\u001b[43mmask_paths\u001b[49m\u001b[43m[\u001b[49m\u001b[43mimg_idx\u001b[49m\u001b[43m]\u001b[49m)\n\u001b[0;32m     61\u001b[0m flair_image \u001b[38;5;241m=\u001b[39m load_and_normalize_image(mask_paths[img_idx])\n\u001b[0;32m     63\u001b[0m \u001b[38;5;66;03m# Combine channels\u001b[39;00m\n",
      "\u001b[1;31mIndexError\u001b[0m: list index out of range"
     ]
    }
   ],
   "source": [
    "# Define file paths and output directory\n",
    "t2_list_val = sorted(glob.glob('../data/BraTS2020_ValidationData/MICCAI_BraTS2020_ValidationData/*/*t2.nii'))\n",
    "t1ce_list_val = sorted(glob.glob('../data/BraTS2020_ValidationData/MICCAI_BraTS2020_ValidationData/*/*t1ce.nii'))\n",
    "flair_list_val = sorted(glob.glob('../data/BraTS2020_ValidationData/MICCAI_BraTS2020_ValidationData/*/*flair.nii'))\n",
    "\n",
    "save_path_val = '..data/BraTS2020_TrainingData/processed_validation_data/'\n",
    "\n",
    "# Process and save all images\n",
    "process_and_save_images(flair_list_val, mask_list_val, save_path_val)"
   ]
  },
  {
   "cell_type": "markdown",
   "metadata": {},
   "source": [
    "### iSSUES\n",
    "- NO DATA FOLDER OUTPUT FROM TRAINING\n",
    "- MASK PREVENTS VALIDATION SET FROM RUNNING"
   ]
  },
  {
   "cell_type": "markdown",
   "metadata": {},
   "source": []
  }
 ],
 "metadata": {
  "kernelspec": {
   "display_name": "modelleren_van_kanker",
   "language": "python",
   "name": "python3"
  },
  "language_info": {
   "codemirror_mode": {
    "name": "ipython",
    "version": 3
   },
   "file_extension": ".py",
   "mimetype": "text/x-python",
   "name": "python",
   "nbconvert_exporter": "python",
   "pygments_lexer": "ipython3",
   "version": "3.12.7"
  }
 },
 "nbformat": 4,
 "nbformat_minor": 2
}
