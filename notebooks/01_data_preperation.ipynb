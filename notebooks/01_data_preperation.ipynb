{
 "cells": [
  {
   "cell_type": "markdown",
   "metadata": {},
   "source": [
    "# 1. data preperation"
   ]
  },
  {
   "cell_type": "markdown",
   "metadata": {},
   "source": [
    "### Imports"
   ]
  },
  {
   "cell_type": "code",
   "execution_count": 8,
   "metadata": {},
   "outputs": [],
   "source": [
    "import sys\n",
    "import os\n",
    "import glob\n",
    "#sys.path.append('../python')\n",
    "\n",
    "# Import the functions from the src directory.\n",
    "#from data_processing import process_and_save_images\n",
    "from python import DataProcessing\n",
    "#from data_splitter import split_data"
   ]
  },
  {
   "cell_type": "code",
   "execution_count": 9,
   "metadata": {},
   "outputs": [],
   "source": [
    "# home = os.getcwd().replace(\"\\\\\", \"/\")\n",
    "# print(home)\n",
    "# root = f\"{home.split('modelleren_van_kanker_brats')[0]}modelleren_van_kanker_brats\"\n",
    "# print(root)"
   ]
  },
  {
   "cell_type": "code",
   "execution_count": 10,
   "metadata": {},
   "outputs": [],
   "source": [
    "# t2_list = sorted(glob.glob(f\"{root}/data/BraTS2020_TrainingData/MICCAI_BraTS2020_TrainingData/*/*t2.nii\"))\n",
    "# print(t2_list)"
   ]
  },
  {
   "cell_type": "markdown",
   "metadata": {},
   "source": [
    "### Processing and saving the training data"
   ]
  },
  {
   "cell_type": "code",
   "execution_count": 11,
   "metadata": {},
   "outputs": [],
   "source": [
    "# Define file paths and output directory\n",
    "t2_list = sorted(glob.glob('..data/BraTS2020_TrainingData/MICCAI_BraTS2020_TrainingData/*/*t2.nii'))\n",
    "t1ce_list = sorted(glob.glob('..data/BraTS2020_TrainingData/MICCAI_BraTS2020_TrainingData/*/*t1ce.nii'))\n",
    "flair_list = sorted(glob.glob('..data/BraTS2020_TrainingData/MICCAI_BraTS2020_TrainingData/*/*flair.nii'))\n",
    "mask_list = sorted(glob.glob('..data/BraTS2020_TrainingData/MICCAI_BraTS2020_TrainingData/*/*seg.nii'))\n",
    "\n",
    "save_path = '..data/BraTS2020_TrainingData/processed_training_data/'\n",
    "\n",
    "# Process and save all images\n",
    "DataProcessing.process_and_save_images(flair_list, mask_list, save_path)"
   ]
  },
  {
   "cell_type": "markdown",
   "metadata": {},
   "source": [
    "### Split the data (optional)"
   ]
  },
  {
   "cell_type": "markdown",
   "metadata": {},
   "source": [
    "We can choose to split the data into training and validation, however its already been done for us, so that data will be used instead."
   ]
  },
  {
   "cell_type": "code",
   "execution_count": 12,
   "metadata": {},
   "outputs": [],
   "source": [
    "# Split the data into training and validation (optional, as there is a validation folder)\n",
    "# input_folder = '..data/BraTS2020_TrainingData/input_data_3channels/'\n",
    "# output_folder = '..data/BraTS2020_TrainingData/input_data_128/'\n",
    "# split_data(input_folder, output_folder)"
   ]
  },
  {
   "cell_type": "markdown",
   "metadata": {},
   "source": [
    "### Processing and saving the validation data"
   ]
  },
  {
   "cell_type": "code",
   "execution_count": 13,
   "metadata": {},
   "outputs": [],
   "source": [
    "# # Define file paths and output directory\n",
    "# t2_list_val = sorted(glob.glob('../data/BraTS2020_ValidationData/MICCAI_BraTS2020_ValidationData/*/*t2.nii'))\n",
    "# t1ce_list_val = sorted(glob.glob('../data/BraTS2020_ValidationData/MICCAI_BraTS2020_ValidationData/*/*t1ce.nii'))\n",
    "# flair_list_val = sorted(glob.glob('../data/BraTS2020_ValidationData/MICCAI_BraTS2020_ValidationData/*/*flair.nii'))\n",
    "\n",
    "# save_path_val = '..data/BraTS2020_TrainingData/processed_validation_data/'\n",
    "\n",
    "# # Process and save all images\n",
    "# process_and_save_images(flair_list_val, mask_list_val, save_path_val)"
   ]
  },
  {
   "cell_type": "markdown",
   "metadata": {},
   "source": [
    "### iSSUES\n",
    "- NO DATA FOLDER OUTPUT FROM TRAINING\n",
    "- MASK PREVENTS VALIDATION SET FROM RUNNING"
   ]
  },
  {
   "cell_type": "markdown",
   "metadata": {},
   "source": []
  }
 ],
 "metadata": {
  "kernelspec": {
   "display_name": "modelleren_van_kanker",
   "language": "python",
   "name": "python3"
  },
  "language_info": {
   "codemirror_mode": {
    "name": "ipython",
    "version": 3
   },
   "file_extension": ".py",
   "mimetype": "text/x-python",
   "name": "python",
   "nbconvert_exporter": "python",
   "pygments_lexer": "ipython3",
   "version": "3.12.7"
  }
 },
 "nbformat": 4,
 "nbformat_minor": 2
}
