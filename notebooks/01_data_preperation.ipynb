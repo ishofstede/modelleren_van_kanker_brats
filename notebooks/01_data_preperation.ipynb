{
 "cells": [
  {
   "cell_type": "markdown",
   "metadata": {},
   "source": [
    "# 1. data preperation"
   ]
  },
  {
   "cell_type": "markdown",
   "metadata": {},
   "source": [
    "### Imports"
   ]
  },
  {
   "cell_type": "markdown",
   "metadata": {},
   "source": [
    "import the functions from the src directory."
   ]
  },
  {
   "cell_type": "code",
   "execution_count": null,
   "metadata": {},
   "outputs": [],
   "source": [
    "import sys\n",
    "sys.path.append('../src')\n",
    "\n",
    "from data_processing import process_and_save_images\n",
    "from data_splitter import split_data"
   ]
  },
  {
   "cell_type": "markdown",
   "metadata": {},
   "source": [
    "### Processing and saving the data"
   ]
  },
  {
   "cell_type": "code",
   "execution_count": null,
   "metadata": {},
   "outputs": [],
   "source": [
    "# Define file paths and output directory\n",
    "t2_list = sorted(glob.glob('..data/BraTS2020_TrainingData/MICCAI_BraTS2020_TrainingData/*/*t2.nii'))\n",
    "t1ce_list = sorted(glob.glob('..data/BraTS2020_TrainingData/MICCAI_BraTS2020_TrainingData/*/*t1ce.nii'))\n",
    "flair_list = sorted(glob.glob('..data/BraTS2020_TrainingData/MICCAI_BraTS2020_TrainingData/*/*flair.nii'))\n",
    "mask_list = sorted(glob.glob('..data/BraTS2020_TrainingData/MICCAI_BraTS2020_TrainingData/*/*seg.nii'))\n",
    "\n",
    "save_path = '..data/BraTS2020_TrainingData/input_data_3channels/'\n",
    "\n",
    "# Process and save all images\n",
    "process_and_save_images(flair_list, mask_list, save_path)"
   ]
  },
  {
   "cell_type": "markdown",
   "metadata": {},
   "source": [
    "### Split the data (optional)"
   ]
  },
  {
   "cell_type": "markdown",
   "metadata": {},
   "source": [
    "We can choose to split the data into training and validation, however its already been done for us, so that data will be used instead."
   ]
  },
  {
   "cell_type": "code",
   "execution_count": null,
   "metadata": {},
   "outputs": [],
   "source": [
    "# Split the data into training and validation (optional, as there is a validation folder)\n",
    "# input_folder = '..data/BraTS2020_TrainingData/input_data_3channels/'\n",
    "# output_folder = '..data/BraTS2020_TrainingData/input_data_128/'\n",
    "# split_data(input_folder, output_folder)"
   ]
  }
 ],
 "metadata": {
  "language_info": {
   "name": "python"
  }
 },
 "nbformat": 4,
 "nbformat_minor": 2
}
